{
  "nbformat": 4,
  "nbformat_minor": 0,
  "metadata": {
    "colab": {
      "name": "Lab1.ipynb",
      "provenance": []
    },
    "kernelspec": {
      "name": "python3",
      "display_name": "Python 3"
    },
    "language_info": {
      "name": "python"
    }
  },
  "cells": [
    {
      "cell_type": "code",
      "metadata": {
        "colab": {
          "base_uri": "https://localhost:8080/"
        },
        "id": "m23sgLQg8aZQ",
        "outputId": "6ecd7fc5-451f-4bfe-91a6-4e8c504f3436"
      },
      "source": [
        "import pandas as pd\n",
        "import numpy as np\n",
        "from sklearn.impute import SimpleImputer\n",
        "\n",
        "dataset = pd.read_csv('housing.data1.txt', header = None, sep = '\\s+')\n",
        "\n",
        "print(dataset),\n",
        "\n",
        "data_top = dataset.head()\n",
        "print(data_top),\n",
        "\n",
        "check_nan = dataset.isnull().values.any()\n",
        "\n",
        "print(check_nan),\n",
        "\n",
        "imputer = SimpleImputer(missing_values = np.nan, strategy='mean')\n",
        "imputer.fit(dataset)\n",
        "dataarray = imputer.transform(dataset)\n",
        "\n",
        "array_sum = np.sum(dataarray)\n",
        "array_has_nan = np.isnan(array_sum)\n",
        "print(array_has_nan),\n",
        "\n",
        "print(dataarray)\n",
        "\n",
        "\n"
      ],
      "execution_count": 45,
      "outputs": [
        {
          "output_type": "stream",
          "name": "stdout",
          "text": [
            "          0     1       2      3       4   ...      9      10      11     12    13\n",
            "0    0.00632  18.0   2.310  0.000  0.5380  ...  296.00   15.3  396.90   4.98  24.0\n",
            "1    0.00000   0.0   0.469  6.421  4.9671  ...    9.14   21.6     NaN    NaN   NaN\n",
            "2    0.02729   0.0   7.070  0.000  0.4690  ...  242.00   17.8  392.83   4.03  34.7\n",
            "3    0.03237   0.0   2.180  0.000  0.4580  ...  222.00   18.7  394.63   2.94  33.4\n",
            "4    0.06905   0.0   0.000  0.458  7.1470  ...   18.70  396.9    5.33  36.20   NaN\n",
            "..       ...   ...     ...    ...     ...  ...     ...    ...     ...    ...   ...\n",
            "501  0.06263   0.0  11.930  0.000  0.5730  ...  273.00   21.0  391.99   9.67  22.4\n",
            "502  0.04527   0.0  20.600    NaN     NaN  ...     NaN    NaN     NaN    NaN   NaN\n",
            "503  0.06076   0.0  11.930  0.000  0.5730  ...  273.00   21.0  396.90   5.64  23.9\n",
            "504  0.10959   0.0  11.930  0.000  0.5730  ...  273.00   21.0  393.45   6.48  22.0\n",
            "505  0.04741   0.0  11.930  0.000  0.5730  ...  273.00   21.0  396.90   7.88  11.9\n",
            "\n",
            "[506 rows x 14 columns]\n",
            "        0     1      2      3       4   ...      9      10      11     12    13\n",
            "0  0.00632  18.0  2.310  0.000  0.5380  ...  296.00   15.3  396.90   4.98  24.0\n",
            "1  0.00000   0.0  0.469  6.421  4.9671  ...    9.14   21.6     NaN    NaN   NaN\n",
            "2  0.02729   0.0  7.070  0.000  0.4690  ...  242.00   17.8  392.83   4.03  34.7\n",
            "3  0.03237   0.0  2.180  0.000  0.4580  ...  222.00   18.7  394.63   2.94  33.4\n",
            "4  0.06905   0.0  0.000  0.458  7.1470  ...   18.70  396.9    5.33  36.20   NaN\n",
            "\n",
            "[5 rows x 14 columns]\n",
            "True\n",
            "False\n",
            "[[6.32000000e-03 1.80000000e+01 2.31000000e+00 ... 3.96900000e+02\n",
            "  4.98000000e+00 2.40000000e+01]\n",
            " [0.00000000e+00 0.00000000e+00 4.69000000e-01 ... 3.49281783e+02\n",
            "  1.29052049e+01 2.25598739e+01]\n",
            " [2.72900000e-02 0.00000000e+00 7.07000000e+00 ... 3.92830000e+02\n",
            "  4.03000000e+00 3.47000000e+01]\n",
            " ...\n",
            " [6.07600000e-02 0.00000000e+00 1.19300000e+01 ... 3.96900000e+02\n",
            "  5.64000000e+00 2.39000000e+01]\n",
            " [1.09590000e-01 0.00000000e+00 1.19300000e+01 ... 3.93450000e+02\n",
            "  6.48000000e+00 2.20000000e+01]\n",
            " [4.74100000e-02 0.00000000e+00 1.19300000e+01 ... 3.96900000e+02\n",
            "  7.88000000e+00 1.19000000e+01]]\n"
          ]
        }
      ]
    }
  ]
}